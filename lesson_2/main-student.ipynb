{
 "cells": [
  {
   "cell_type": "markdown",
   "metadata": {},
   "source": [
    "# Back propagation своими руками"
   ]
  },
  {
   "cell_type": "markdown",
   "metadata": {},
   "source": [
    "В этом задании мы построим нейросеть на numpy и обучим ее с помощью градиентного спуска.\n",
    "\n",
    "В numpy нет автоматического дифференцирования, поэтому нам придется самостоятельно считать градиент\n",
    "и \"тащить\" его через всю сеть (с конца в начало).\n",
    "\n",
    "Это задание будет полезно для более глубокого понимания работы back propagation \"под капотом\".\n",
    "\n",
    "Будем делать задание в несколько этапов:\n",
    "1. Подготовим данные.\n",
    "2. Построим сеть \"Linear + Tanh + Linear\" для регрессии, используя pytorch, обучим ее.\n",
    "С ней будем дальше сравниваться.\n",
    "3. Напишем линейный слой на numpy, научим его считать свой градиент.\n",
    "4. Напишем Tanh слой, научим его считать свой градиент.\n",
    "5. Напишем алгоритм back propagation, который будет распространять градиент с конца в начало.\n",
    "\n",
    "Учить все это будем на MSE обычным градиентным спуском (без батчей и с константным learning rate).\n",
    "Почему Tanh - для него более показательная производная.\n",
    "MSE - простой градиент, будет проще реализовать.\n",
    "Градиентный спуск сделаем тоже максимально простым, т.к. наш фокус в этом задании на слои сети, а не алгоритмы оптимизации."
   ]
  },
  {
   "cell_type": "markdown",
   "metadata": {},
   "source": [
    "## Подготовка данных\n",
    "\n",
    "Возьмем готовые данные из урока 2."
   ]
  },
  {
   "cell_type": "code",
   "execution_count": 9,
   "metadata": {},
   "outputs": [],
   "source": [
    "import pandas as pd\n",
    "\n",
    "# В train.csv и test.csv лежат данные из урока 2 после препроцессинга\n",
    "df_train = pd.read_csv(\"train.csv\", index_col=0)\n",
    "df_train.drop(columns=['sex', 'region', 'smoker'], axis=1, inplace=True)\n",
    "df_test = pd.read_csv(\"test.csv\", index_col=0)\n",
    "df_test.drop(columns=['sex', 'region', 'smoker'], axis=1, inplace=True)\n",
    "x_train = df_train.copy()\n",
    "y_train = x_train.pop(\"charges\")\n",
    "x_test = df_test.copy()\n",
    "y_test = x_test.pop(\"charges\")"
   ]
  },
  {
   "cell_type": "code",
   "execution_count": 10,
   "metadata": {},
   "outputs": [
    {
     "data": {
      "text/html": [
       "<div>\n",
       "<style scoped>\n",
       "    .dataframe tbody tr th:only-of-type {\n",
       "        vertical-align: middle;\n",
       "    }\n",
       "\n",
       "    .dataframe tbody tr th {\n",
       "        vertical-align: top;\n",
       "    }\n",
       "\n",
       "    .dataframe thead th {\n",
       "        text-align: right;\n",
       "    }\n",
       "</style>\n",
       "<table border=\"1\" class=\"dataframe\">\n",
       "  <thead>\n",
       "    <tr style=\"text-align: right;\">\n",
       "      <th></th>\n",
       "      <th>age</th>\n",
       "      <th>bmi</th>\n",
       "      <th>children</th>\n",
       "      <th>sex_female</th>\n",
       "      <th>sex_male</th>\n",
       "      <th>region_northeast</th>\n",
       "      <th>region_northwest</th>\n",
       "      <th>region_southeast</th>\n",
       "      <th>region_southwest</th>\n",
       "      <th>smoker_no</th>\n",
       "      <th>smoker_yes</th>\n",
       "    </tr>\n",
       "  </thead>\n",
       "  <tbody>\n",
       "    <tr>\n",
       "      <th>0</th>\n",
       "      <td>-1.443656</td>\n",
       "      <td>-0.440973</td>\n",
       "      <td>0</td>\n",
       "      <td>1.0</td>\n",
       "      <td>0.0</td>\n",
       "      <td>0.0</td>\n",
       "      <td>0.0</td>\n",
       "      <td>0.0</td>\n",
       "      <td>1.0</td>\n",
       "      <td>0.0</td>\n",
       "      <td>1.0</td>\n",
       "    </tr>\n",
       "    <tr>\n",
       "      <th>1</th>\n",
       "      <td>-1.514986</td>\n",
       "      <td>0.537508</td>\n",
       "      <td>1</td>\n",
       "      <td>0.0</td>\n",
       "      <td>1.0</td>\n",
       "      <td>0.0</td>\n",
       "      <td>0.0</td>\n",
       "      <td>1.0</td>\n",
       "      <td>0.0</td>\n",
       "      <td>1.0</td>\n",
       "      <td>0.0</td>\n",
       "    </tr>\n",
       "    <tr>\n",
       "      <th>2</th>\n",
       "      <td>-0.801683</td>\n",
       "      <td>0.409155</td>\n",
       "      <td>3</td>\n",
       "      <td>0.0</td>\n",
       "      <td>1.0</td>\n",
       "      <td>0.0</td>\n",
       "      <td>0.0</td>\n",
       "      <td>1.0</td>\n",
       "      <td>0.0</td>\n",
       "      <td>1.0</td>\n",
       "      <td>0.0</td>\n",
       "    </tr>\n",
       "    <tr>\n",
       "      <th>3</th>\n",
       "      <td>-0.445032</td>\n",
       "      <td>-1.306937</td>\n",
       "      <td>0</td>\n",
       "      <td>0.0</td>\n",
       "      <td>1.0</td>\n",
       "      <td>0.0</td>\n",
       "      <td>1.0</td>\n",
       "      <td>0.0</td>\n",
       "      <td>0.0</td>\n",
       "      <td>1.0</td>\n",
       "      <td>0.0</td>\n",
       "    </tr>\n",
       "    <tr>\n",
       "      <th>4</th>\n",
       "      <td>-0.516362</td>\n",
       "      <td>-0.277615</td>\n",
       "      <td>0</td>\n",
       "      <td>0.0</td>\n",
       "      <td>1.0</td>\n",
       "      <td>0.0</td>\n",
       "      <td>1.0</td>\n",
       "      <td>0.0</td>\n",
       "      <td>0.0</td>\n",
       "      <td>1.0</td>\n",
       "      <td>0.0</td>\n",
       "    </tr>\n",
       "  </tbody>\n",
       "</table>\n",
       "</div>"
      ],
      "text/plain": [
       "        age       bmi  children  sex_female  sex_male  region_northeast  \\\n",
       "0 -1.443656 -0.440973         0         1.0       0.0               0.0   \n",
       "1 -1.514986  0.537508         1         0.0       1.0               0.0   \n",
       "2 -0.801683  0.409155         3         0.0       1.0               0.0   \n",
       "3 -0.445032 -1.306937         0         0.0       1.0               0.0   \n",
       "4 -0.516362 -0.277615         0         0.0       1.0               0.0   \n",
       "\n",
       "   region_northwest  region_southeast  region_southwest  smoker_no  smoker_yes  \n",
       "0               0.0               0.0               1.0        0.0         1.0  \n",
       "1               0.0               1.0               0.0        1.0         0.0  \n",
       "2               0.0               1.0               0.0        1.0         0.0  \n",
       "3               1.0               0.0               0.0        1.0         0.0  \n",
       "4               1.0               0.0               0.0        1.0         0.0  "
      ]
     },
     "execution_count": 10,
     "metadata": {},
     "output_type": "execute_result"
    }
   ],
   "source": [
    "x_train.head(5)"
   ]
  },
  {
   "cell_type": "code",
   "execution_count": 11,
   "metadata": {},
   "outputs": [
    {
     "data": {
      "text/plain": [
       "0    0.341230\n",
       "1   -0.963381\n",
       "2   -0.728963\n",
       "3    0.780095\n",
       "4   -0.779102\n",
       "Name: charges, dtype: float64"
      ]
     },
     "execution_count": 11,
     "metadata": {},
     "output_type": "execute_result"
    }
   ],
   "source": [
    "y_train.head(5)"
   ]
  },
  {
   "cell_type": "markdown",
   "metadata": {},
   "source": [
    "## Строим сеть на PyTorch"
   ]
  },
  {
   "cell_type": "code",
   "execution_count": 12,
   "metadata": {},
   "outputs": [
    {
     "data": {
      "image/png": "[encoded data removed]",
      "text/plain": [
       "<Figure size 640x480 with 1 Axes>"
      ]
     },
     "metadata": {},
     "output_type": "display_data"
    },
    {
     "name": "stderr",
     "output_type": "stream",
     "text": [
      "100%|██████████| 2000/2000 [00:02<00:00, 757.50it/s] "
     ]
    },
    {
     "name": "stdout",
     "output_type": "stream",
     "text": [
      "Final losses: [0.2133040726184845, 0.21327617764472961, 0.21324829757213593, 0.21322041749954224, 0.21319252252578735]\n"
     ]
    },
    {
     "name": "stderr",
     "output_type": "stream",
     "text": [
      "\n"
     ]
    }
   ],
   "source": [
    "import matplotlib.pyplot as plt\n",
    "import numpy as np\n",
    "import torch\n",
    "import torch.nn as nn\n",
    "import tqdm\n",
    "from IPython.display import clear_output\n",
    "from torch.optim import SGD\n",
    "\n",
    "lr, num_iter = 1e-2, 2_000\n",
    "torch.random.manual_seed(0)\n",
    "torch_model = nn.Sequential(\n",
    "    nn.Linear(len(x_train.columns), 32, bias=False),\n",
    "    nn.Tanh(),\n",
    "    nn.Linear(32, 1, bias=False),\n",
    ")\n",
    "\n",
    "\n",
    "# train_loop взят из урока 2\n",
    "def train_loop(model: nn.Module) -> list[float]:\n",
    "    t_x_train = torch.from_numpy(x_train.values.astype(np.float32))\n",
    "    t_y_train = torch.from_numpy(y_train.values.astype(np.float32))\n",
    "    torch.random.manual_seed(0)\n",
    "    losses = []\n",
    "    optim = SGD(model.parameters(), lr=lr)\n",
    "    criterion = nn.MSELoss()\n",
    "    for i in tqdm.trange(num_iter):\n",
    "        optim.zero_grad()\n",
    "        out = model(t_x_train)[:, 0]\n",
    "        loss = criterion(out, t_y_train)\n",
    "        loss.backward()\n",
    "        losses.append(loss.item())\n",
    "        optim.step()\n",
    "\n",
    "        # интерактивно рисуем графики каждые 100 итераций\n",
    "        if (i + 1) % 100 == 0:\n",
    "            # Чистим прошлый график\n",
    "            clear_output(wait=True)\n",
    "            # рисуем новый\n",
    "            plt.plot(losses)\n",
    "            plt.grid()\n",
    "            plt.xlabel(\"Iteration\")\n",
    "            plt.ylabel(\"MSE loss\")\n",
    "            plt.show()\n",
    "\n",
    "    return losses\n",
    "\n",
    "\n",
    "print(f\"Final losses: {train_loop(torch_model)[-5:]}\")"
   ]
  },
  {
   "cell_type": "markdown",
   "metadata": {},
   "source": [
    "Теперь перейдем к самой интересной части."
   ]
  },
  {
   "cell_type": "markdown",
   "metadata": {},
   "source": [
    "## Линейный слой на numpy\n",
    "\n",
    "Мы начнем с простого: forward pass линейного слоя.\n",
    "Для простоты исключим bias из слоя.\n",
    "\n",
    "Линейный слой принимает на вход метрицу $X$ размера $(N, K)$ и при прямом прохождении (forward pass) преобразует $X$ следующим образом:\n",
    "\n",
    "$$\n",
    "y = XW\n",
    "$$\n",
    "\n",
    "где $W$ - матрица размером $(K, d)$, $y$ - выход слоя размерности $(N, d)$."
   ]
  },
  {
   "cell_type": "code",
   "execution_count": 19,
   "metadata": {},
   "outputs": [],
   "source": [
    "from numpy.testing import assert_allclose\n",
    "\n",
    "\"\"\"Допишите:\n",
    "- инициализацию весов\n",
    "- метод forward\n",
    "для заготовки ниже.\n",
    "\"\"\"\n",
    "\n",
    "\n",
    "class MyLinearLayer:\n",
    "    def __init__(self, dim_in: int, dim_out: int):\n",
    "        self.dim_in = dim_in\n",
    "        self.dim_out = dim_out\n",
    "\n",
    "        # Напишите сюда правильную размерность\n",
    "        self.W = np.random.randn(self.dim_in, self.dim_out)\n",
    "\n",
    "    def get_params(self):\n",
    "        # Для удобства сделаем функцию, которая будет возвращать все параметры слоя\n",
    "        # В случае линейного это будет только вес\n",
    "        return (self.W,)\n",
    "\n",
    "    def forward(self, X: np.ndarray) -> np.ndarray:\n",
    "        y = X @ self.W\n",
    "        return y\n",
    "\n",
    "\n",
    "layer = MyLinearLayer(dim_in=3, dim_out=2)\n",
    "layer.W = np.array([[1, 2], [3, 4], [5, 6]])\n",
    "assert_allclose(\n",
    "    layer.forward(np.array([[1, 2, 3], [4, 5, 6]])),\n",
    "    np.array([[22, 28], [49, 64]]),\n",
    ")"
   ]
  },
  {
   "cell_type": "markdown",
   "metadata": {},
   "source": [
    "В лекции мы обсуждали back propagation. В частности,\n",
    "\n",
    "- градиент считается с конца в начала;\n",
    "- градиент сложной функции разбивается на произведение;\n",
    "\n",
    "Разберем в деталях.\n",
    "Возьмем задачу регрессии с данными:\n",
    "$$\n",
    "X = \\begin{bmatrix}\n",
    "  1 & 2 \\\\\n",
    "  4 & 5\n",
    "\\end{bmatrix}\n",
    "$$\n",
    "и таргетом $$y = \\begin{bmatrix} 5 \\\\ 7 \\end{bmatrix} $$\n",
    "\n",
    "Допустим, мы решаем задачу одним линейным слоем без смещения и с весами\n",
    "$$W = \\begin{bmatrix} 4 \\\\ 5 \\end{bmatrix} $$\n",
    "\n",
    "Получим: $\\hat{y} = X W = \\begin{bmatrix}1 & 2 \\\\ 4 & 5 \\end{bmatrix} \\begin{bmatrix} 4 \\\\ 5 \\end{bmatrix} = \\begin{bmatrix} 1 \\cdot 4 + 2 \\cdot 5 \\\\ 4 \\cdot 4 + 5 \\cdot 5 \\end{bmatrix} = \\begin{bmatrix} 14 \\\\ 41 \\end{bmatrix}$.\n",
    "\n",
    "$$\n",
    "L = (14 - 5)^2 + (41 - 7)^2 = 1237\n",
    "$$\n",
    "\n",
    "Теперь к градиентам.\n",
    "$$\n",
    "dL (\\hat{y}(W)) = d_W (\\hat{y}) \\cdot dL(\\hat{y}) |_{\\hat{y} = X W}\n",
    "$$\n",
    "Везде в формуле $\\hat{y} = XW$.\n",
    "\n",
    "Переходим к подсчетам: $L = \\sum_{i=1}^N (\\hat{y}_i - y_i)^2$, тогда\n",
    "$$\n",
    "\\cfrac{\\partial L}{\\partial \\hat{y}} = 2 (\\hat{y} - y)\n",
    "$$\n",
    "Заметьте, этот градиент можно уже подсчитать, все числа нам даны.\n",
    "\n",
    "**Задание 2**: какой размерности должен быть вектор этого градиента? Отправьте в ЛМС одно целое число - размерность вектора."
   ]
  },
  {
   "cell_type": "code",
   "execution_count": 20,
   "metadata": {},
   "outputs": [
    {
     "data": {
      "text/plain": [
       "2"
      ]
     },
     "execution_count": 20,
     "metadata": {},
     "output_type": "execute_result"
    }
   ],
   "source": [
    "2"
   ]
  },
  {
   "cell_type": "markdown",
   "metadata": {},
   "source": [
    "**Задание 3**: подставьте числа, подсчитайте вектор градиента и отправьте в ЛМС его компоненты, разделенные запятой (без разницы, с пробелом или без). Например, если вектор [4, 9, 2], то в ЛМС можно отправить \"4, 9, 2\" или же \"4,9,2\"."
   ]
  },
  {
   "cell_type": "code",
   "execution_count": null,
   "metadata": {},
   "outputs": [],
   "source": [
    "18, 68"
   ]
  },
  {
   "cell_type": "markdown",
   "metadata": {},
   "source": [
    "Зная вектор $\\cfrac{\\partial L}{\\partial \\hat{y}}$, можем получить градиент по весам - это уже делали в лекции.\n",
    "В лекции получилось:\n",
    "$$\n",
    "\\cfrac{\\partial L}{\\partial W} = X^T \\cdot \\cfrac{\\partial L}{\\partial \\hat{y}}\n",
    "$$\n",
    "Заметьте, что множители поменялись местами ($\\frac{\\partial L}{\\partial \\hat{y}}$ уехал вправо).\n",
    "\n",
    "**Задание 4**: подсчитайте этот градиент и отправьте в ЛМС (формат тот же, что в задании 3)."
   ]
  },
  {
   "cell_type": "code",
   "execution_count": null,
   "metadata": {},
   "outputs": [],
   "source": [
    "290, 376"
   ]
  },
  {
   "cell_type": "markdown",
   "metadata": {},
   "source": [
    "Дополнительно нужно подсчитать градиент по $X$:\n",
    "$$\n",
    "\\cfrac{\\partial L}{\\partial X} = \\cfrac{\\partial L}{\\partial \\hat{y}} \\cdot W^T\n",
    "$$\n",
    "\n",
    "Рассуждения те же, что в лекции (должно быть что-то в духе \"производная умножить на $W$\"), подгоняем по размерности - и получаем финальную формулу.\n",
    "\n",
    "Окей, но как теперь обобщить наш результат?\n",
    "Давайте добавим в каждый слой функцию `backward`, которая на вход будет принимать:\n",
    "- градиент по выходу (в нашем случае это $\\frac{\\partial L}{\\partial \\hat{y}}$) - это чтобы уметь обрабатывать случай, когда множители меняются местами;\n",
    "- вход слоя - т.к. мы используем $X^T$;\n",
    "- выход слоя - иногда удобнее через него формулу переписывать;\n",
    "\n",
    "и на выходе функция будет выдавать градиент по входу.\n",
    "Т.е. каждый слой научим преобразовывать:\n",
    "$$\n",
    "\\cfrac{\\partial L}{\\partial (out)} \\xrightarrow[]{\\text{backward}} \\cfrac{\\partial L}{\\partial (in)}\n",
    "$$\n",
    "\n",
    "Тогда алгоритм back propagation для N слоев будет следующим:\n",
    "1. Подсчитать градиент MSE: $\\cfrac{\\partial L}{\\partial y_N}$\n",
    "2. Подсчитать $\\cfrac{\\partial L}{\\partial W_N}$, зная производную из предыдущего пункта и входы сети.\n",
    "3. Вызвать `backward` и получить $\\cfrac{\\partial L}{\\partial y_{N-1}}$ из $\\cfrac{\\partial L}{\\partial y_N}$.\n",
    "4. Вернуться в п.2 для получения $\\cfrac{\\partial L}{\\partial W_{N-1}}$ (веса предыдущего слоя);"
   ]
  },
  {
   "cell_type": "code",
   "execution_count": 30,
   "metadata": {},
   "outputs": [
    {
     "data": {
      "text/plain": [
       "array([[18],\n",
       "       [72]])"
      ]
     },
     "execution_count": 30,
     "metadata": {},
     "output_type": "execute_result"
    }
   ],
   "source": [
    "np.array([[18, 72]]).T"
   ]
  },
  {
   "cell_type": "code",
   "execution_count": 45,
   "metadata": {},
   "outputs": [
    {
     "name": "stdout",
     "output_type": "stream",
     "text": [
      "Выход слоя:\n",
      " [[14]\n",
      " [41]]\n",
      "Градиент MSE по выходу:\n",
      " [[18]\n",
      " [72]]\n",
      "Градиент по W:\n",
      " [[306]\n",
      " [396]]\n",
      "Градиент по входу:\n",
      " [[ 72  90]\n",
      " [288 360]]\n"
     ]
    }
   ],
   "source": [
    "\"\"\"Добавьте в класс MyLinearLayerV2 функцию backward по описанию из ноутбука.\n",
    "Залейте в ЛМС код MyLinearLayerV2.\n",
    "\"\"\"\n",
    "\n",
    "\n",
    "class MyLinearLayerV2(MyLinearLayer):\n",
    "    def backward(\n",
    "        self, output_grad: np.ndarray, layer_input: np.ndarray, layer_output: np.ndarray\n",
    "    ):\n",
    "        grad_by_W = np.matmul(layer_input.T, output_grad)\n",
    "        grad_by_inputs = np.matmul(output_grad, self.W.T)\n",
    "        # grad_by_inputs - это градиент по входу\n",
    "        # grad_by_W - это градиент по W (который X^T * ...)\n",
    "        return grad_by_inputs, [grad_by_W]\n",
    "\n",
    "\n",
    "# Прогоним над примером из текста\n",
    "layer = MyLinearLayerV2(dim_in=2, dim_out=1)\n",
    "layer.W = np.array([[4, 5]]).T\n",
    "x = np.array([[1, 2], [4, 5]])\n",
    "out = layer.forward(x)\n",
    "grad_mse = np.array([[18, 72]]).T\n",
    "grad_by_input, [grad_by_W] = layer.backward(grad_mse, x, None)\n",
    "\n",
    "assert_allclose(grad_by_W, np.array([[306], [396]]))\n",
    "# не используем в случае 1 слоя, но должны уметь считать\n",
    "assert_allclose(grad_by_input, np.array([[72, 90], [288, 360]]))\n",
    "\n",
    "print(\"Выход слоя:\\n\", out)\n",
    "print(\"Градиент MSE по выходу:\\n\", grad_mse)\n",
    "print(\"Градиент по W:\\n\", grad_by_W)\n",
    "print(\"Градиент по входу:\\n\", grad_by_input)"
   ]
  },
  {
   "cell_type": "markdown",
   "metadata": {},
   "source": [
    "## Нелинейный слой\n",
    "В нашей сети будет еще нелинейность.\n",
    "Разберемся с ней.\n",
    "\n",
    "Как мы увидели на линейном слое, нам нужно считать:\n",
    "- градиент по входу\n",
    "- градиент по всем параметрам слоя;\n",
    "\n",
    "В нелинейности нет параметров, поэтому нужна только одна формула: градиента по входу.\n",
    "\n",
    "Tanh применяет преобразование $y = \\tanh(x)$ поэлементно.\n",
    "В интернете находим, что $$(\\tanh x)' = \\cfrac{1}{\\cosh^2 x} = \\cfrac{2}{e^x + e^{-x}}$$\n",
    "\n",
    "Осталось собрать это с chain rule и не ошибиться с размерностями:\n",
    "$$\n",
    "d L (\\tanh (x)) = d L (t)|_{t=\\tanh(x)} \\cdot d(\\tanh x)\n",
    "$$\n",
    "\n",
    "Первый множитель говорит, как меняется $L$ при изменении $\\tanh(x)$ (меняем не $x$, а именно $\\tanh(x)$).\n",
    "Второе - как меняется $\\tanh(x)$ при изменении $x$.\n",
    "\n",
    "Тут проще думать поэлементно: было число $x_{ij}$, после слоя стало $\\tanh(x_{ij})$ - тоже число.\n",
    "Для чисел есть формула производной сложной функции:\n",
    "$\\cfrac{d(L(\\tanh(x)))}{dx} = \\underbrace{\\cfrac{d(L(t)) |_{t=\\tanh(x)}}{dt}}_\\text{градиент по выходу} \\cdot \\cfrac{d(\\tanh x)}{dx}$\n",
    "\n",
    "Т.е. градиент по входу - это градиент по выходу, умноженный покоординатно на $(\\tanh x_{ij})'$"
   ]
  },
  {
   "cell_type": "code",
   "execution_count": null,
   "metadata": {},
   "outputs": [],
   "source": [
    "\"\"\"Реализуйте класс MyTanh в соответствии с комментариями ноутбука.\"\"\"\n",
    "\n",
    "\n",
    "class MyTanh:\n",
    "    def forward(self, x: np.ndarray):\n",
    "        y = np.tanh(x)\n",
    "        return y\n",
    "    \n",
    "    def get_params(self):\n",
    "        return ()\n",
    "\n",
    "    def backward(\n",
    "        self, output_grad: np.ndarray, layer_input: np.ndarray, layer_output: np.ndarray\n",
    "    ):\n",
    "        grad_tanh  = 2 / (np.e**layer_input + np.e**(-layer_input))\n",
    "        grad_by_input = output_grad * grad_tanh \n",
    "        return grad_by_input, []\n",
    "\n",
    "\n",
    "tanh_layer = MyTanh()\n",
    "# ТЕСТЫ\n",
    "# Простой пример: будем решать уравнение tanh(x) = tanh(1)\n",
    "# Очевидно, что x = 1 является решением, но представим, что мы этого не знаем\n",
    "# Будем делать град. спуск из точки 5 - ожидаем придти в точку x = 1\n",
    "expected = np.tanh([1.0])\n",
    "init_ = np.array([5.0])\n",
    "for _ in range(1_000):\n",
    "    grad, _ = tanh_layer.backward(\n",
    "        2 * (tanh_layer.forward(init_) - expected),  # loss от mse\n",
    "        init_,  # вход слоя\n",
    "        None,  # не используется\n",
    "    )\n",
    "    init_ = init_ - 0.2 * grad\n",
    "assert_allclose(init_, 1, rtol=1e-3)"
   ]
  },
  {
   "cell_type": "markdown",
   "metadata": {},
   "source": [
    "Итак, у нас есть линейный слой и tanh слой, оба умеют считать градиенты.\n",
    "Соберем теперь back propagation из них."
   ]
  },
  {
   "cell_type": "code",
   "execution_count": 80,
   "metadata": {},
   "outputs": [
    {
     "data": {
      "text/plain": [
       "12.65840079034814"
      ]
     },
     "execution_count": 80,
     "metadata": {},
     "output_type": "execute_result"
    }
   ],
   "source": [
    "np.random.seed(0)\n",
    "my_model = [\n",
    "    MyLinearLayerV2(len(x_train.columns), 32),\n",
    "    MyTanh(),\n",
    "    MyLinearLayerV2(32, 1),\n",
    "]\n",
    "\n",
    "\n",
    "def gd_step(model: list, x: np.ndarray, y: np.ndarray):\n",
    "    inputs, outputs = [], []\n",
    "    N = x.shape[0]\n",
    "    # Прогоним все слои, сохраним все промежуточные результаты\n",
    "    for one_layer in model:\n",
    "        inputs.append(x if not outputs else outputs[-1])\n",
    "        result = one_layer.forward(inputs[-1])\n",
    "        outputs.append(result)\n",
    "    # Последний выход уже предсказывает целевую переменную\n",
    "    y_pred = outputs[-1]\n",
    "    assert y_pred.shape == (N, 1)\n",
    "    assert y.shape == (N,)\n",
    "    y_pred = y_pred[:, 0]\n",
    "    # Заметьте, для back propagation не нужно знать само значение MSE\n",
    "    grad_mse = 2 / N * (y_pred - y)\n",
    "    # Чтобы не было проблем с размерностью, сделаем не (N, ), а (N, 1)\n",
    "    grad_current = grad_mse[:, None]\n",
    "    # Теперь все готово к back propagation - идем с конца в начало\n",
    "    for one_layer, one_input, one_output in zip(\n",
    "        model[::-1], inputs[::-1], outputs[::-1]\n",
    "    ):\n",
    "        grad_by_input, grad_params = one_layer.backward(grad_current, one_input, one_output)\n",
    "\n",
    "        # Если слой имеет параметры, обновляем их\n",
    "        params = one_layer.get_params()\n",
    "        if params:  \n",
    "            one_layer.W -= lr * grad_params[0]  # Обновляем только если есть веса\n",
    "        \n",
    "        grad_current = grad_by_input  # Передаём градиент дальше\n",
    "\n",
    "        # Напишите код, который будет:\n",
    "        # - получать градиенты по параметрам\n",
    "        # - обновлять параметры (шаг градиентного спуска, используйте lr)\n",
    "        # - обновляеть градиент предыдущего слоя (переменная grad_current)\n",
    "\n",
    "        # В функции backward() первым всегда возвращается градиент по входу.\n",
    "        # Вторым - список градиентов по параметрам,\n",
    "        # в том же порядке, в котором идут параметры в get_params()\n",
    "\n",
    "        ...\n",
    "\n",
    "    # Подсчитаем MSE, чтобы его залоггировать\n",
    "    mse_loss = 1 / N * ((y_pred - y) ** 2).sum()\n",
    "    return mse_loss\n",
    "\n",
    "\n",
    "gd_step(my_model, x_train.values.astype(np.float32), y_train.values.astype(np.float32))"
   ]
  },
  {
   "cell_type": "code",
   "execution_count": null,
   "metadata": {},
   "outputs": [
    {
     "data": {
      "image/png": "[encoded data removed]",
      "text/plain": [
       "<Figure size 640x480 with 1 Axes>"
      ]
     },
     "metadata": {},
     "output_type": "display_data"
    },
    {
     "name": "stderr",
     "output_type": "stream",
     "text": [
      "100%|██████████| 2000/2000 [00:03<00:00, 577.14it/s]"
     ]
    },
    {
     "name": "stdout",
     "output_type": "stream",
     "text": [
      "Final losses: [0.21267343413952633, 0.21263567660068716, 0.21259795246844435, 0.2125602616958477, 0.21252260423604175]\n"
     ]
    },
    {
     "name": "stderr",
     "output_type": "stream",
     "text": [
      "\n"
     ]
    },
    {
     "ename": "",
     "evalue": "",
     "output_type": "error",
     "traceback": [
      "\u001b[1;31mПри выполнении кода в текущей ячейке или предыдущей ячейке ядро аварийно завершило работу. \n",
      "\u001b[1;31mПроверьте код в ячейках, чтобы определить возможную причину сбоя. \n",
      "\u001b[1;31mЩелкните <a href='https://aka.ms/vscodeJupyterKernelCrash'>здесь</a>, чтобы получить дополнительные сведения. \n",
      "\u001b[1;31mПодробнее см. в <a href='command:jupyter.viewOutput'>журнале Jupyter</a>."
     ]
    }
   ],
   "source": [
    "np.random.seed(0)\n",
    "my_model = [\n",
    "    MyLinearLayerV2(len(x_train.columns), 32),\n",
    "    MyTanh(),\n",
    "    MyLinearLayerV2(32, 1),\n",
    "]\n",
    "losses = []\n",
    "for i in tqdm.trange(num_iter):\n",
    "    losses.append(\n",
    "        gd_step(\n",
    "            my_model,\n",
    "            x_train.values.astype(np.float32),\n",
    "            y_train.values.astype(np.float32),\n",
    "        )\n",
    "    )\n",
    "    if (i + 1) % 100 == 0:\n",
    "        clear_output(wait=True)\n",
    "        plt.plot(losses)\n",
    "        plt.grid()\n",
    "        plt.xlabel(\"Iteration\")\n",
    "        plt.ylabel(\"MSE loss\")\n",
    "        plt.show()\n",
    "\n",
    "print(f\"Final losses: {losses[-5:]}\")"
   ]
  },
  {
   "cell_type": "markdown",
   "metadata": {},
   "source": [
    "Если у вас та же картинка, что была в начале ноутбука, то поздравляем - вы написали градиентный спуск своими руками.\n",
    "\n",
    "А именно:\n",
    "- вы написали линейный и tanh слои и back propagation для них;\n",
    "- потренировали и увидели, что оно работает;\n",
    "- вспомнили все формулы для линейного слоя;\n",
    "\n",
    "Функция gd_step устроена таким образом, что вы можете свою сеть расширять до любого количества слоев. Поэкспериментируйте :)\n",
    "\n",
    "Конечно же, в pytorch поудобнее вышло, чем в нашей реализации.\n",
    "Дело в том, что pytorch делает много \"магии\":\n",
    "- pytorch сам отслеживает все входы и выходы слоев (мы это явно делали в переменных `inputs` и `outputs`)\n",
    "- прячет всю оптимизацию в класс `SGD`\n",
    "- сам строит граф вычислений (в случае сложных сетей)"
   ]
  }
 ],
 "metadata": {
  "kernelspec": {
   "display_name": ".venv",
   "language": "python",
   "name": "python3"
  },
  "language_info": {
   "codemirror_mode": {
    "name": "ipython",
    "version": 3
   },
   "file_extension": ".py",
   "mimetype": "text/x-python",
   "name": "python",
   "nbconvert_exporter": "python",
   "pygments_lexer": "ipython3",
   "version": "3.11.9"
  }
 },
 "nbformat": 4,
 "nbformat_minor": 2
}

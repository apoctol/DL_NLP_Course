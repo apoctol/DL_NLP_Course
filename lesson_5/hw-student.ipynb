{
 "cells": [
  {
   "cell_type": "markdown",
   "metadata": {},
   "source": [
    "# Домашнее задание 5\n",
    "В этом задании мы:\n",
    "\n",
    "1. Построим U-Net для датасета VOC segmentation, посмотрим на качество семантической сегментации.\n",
    "2. Соберем GAN для генерации картинок из MNIST.\n",
    "3. Прикрутим к этому GAN обуславливание на метку класса, посмотрим на результат."
   ]
  },
  {
   "cell_type": "markdown",
   "metadata": {},
   "source": [
    "## U-Net на датасете VOC\n",
    "\n",
    "Датасет [Pascal VOC](http://host.robots.ox.ac.uk/pascal/VOC/) - один из классических датасетов для задачи семантической сегментации.\n",
    "Его используют в статьях и [по сей день](https://paperswithcode.com/dataset/pascal-voc) для бенчмарков.\n",
    "\n",
    "В этом задании вам нужно скачать этот датасет, разбить на train и validation части, и обучить на нем U-Net.\n",
    "Код для U-Net разбирался в семинаре.\n",
    "\n",
    "В ЛМС необходимо сдать вашу реализацию U-Net и `model.pt` файл обученной модели.\n",
    "Чтобы сдать это задание, модель должна достигать accuracy > 50% на тестовом датасете."
   ]
  },
  {
   "cell_type": "code",
   "execution_count": 1,
   "metadata": {},
   "outputs": [],
   "source": [
    "import typing as tp\n",
    "from functools import reduce\n",
    "from pathlib import Path\n",
    "\n",
    "import albumentations as A\n",
    "import cv2\n",
    "import matplotlib.pyplot as plt\n",
    "import numpy as np\n",
    "import torch\n",
    "import torch.nn as nn\n",
    "import torch.nn.functional as F\n",
    "import tqdm\n",
    "from albumentations.pytorch.transforms import ToTensorV2\n",
    "from IPython.display import clear_output, display\n",
    "from torch.optim import Adam\n",
    "from torch.utils.data import DataLoader\n",
    "from torchvision.datasets import VOCSegmentation"
   ]
  },
  {
   "cell_type": "code",
   "execution_count": 2,
   "metadata": {},
   "outputs": [
    {
     "name": "stdout",
     "output_type": "stream",
     "text": [
      "Downloading http://host.robots.ox.ac.uk/pascal/VOC/voc2012/VOCtrainval_11-May-2012.tar to ./data\\VOCtrainval_11-May-2012.tar\n"
     ]
    },
    {
     "name": "stderr",
     "output_type": "stream",
     "text": [
      "100%|██████████| 1999639040/1999639040 [00:59<00:00, 33646176.38it/s]\n"
     ]
    },
    {
     "name": "stdout",
     "output_type": "stream",
     "text": [
      "Extracting ./data\\VOCtrainval_11-May-2012.tar to ./data\n"
     ]
    },
    {
     "data": {
      "image/jpeg": "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